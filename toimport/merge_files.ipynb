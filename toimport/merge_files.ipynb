{
 "cells": [
  {
   "cell_type": "code",
   "execution_count": 1,
   "id": "2d1a7e9c-7b57-42ac-b729-4366a46dc5f1",
   "metadata": {
    "execution": {
     "iopub.execute_input": "2023-06-29T05:55:14.218136Z",
     "iopub.status.busy": "2023-06-29T05:55:14.218136Z",
     "iopub.status.idle": "2023-06-29T05:55:14.583621Z",
     "shell.execute_reply": "2023-06-29T05:55:14.583621Z",
     "shell.execute_reply.started": "2023-06-29T05:55:14.218136Z"
    }
   },
   "outputs": [],
   "source": [
    "# Path Name Pattern Expansion\n",
    "import glob\n",
    "import pandas as pd"
   ]
  },
  {
   "cell_type": "code",
   "execution_count": 2,
   "id": "706ac47e-d3a7-4a9d-8e9d-c6b465d1abf4",
   "metadata": {
    "execution": {
     "iopub.execute_input": "2023-06-29T05:55:26.107457Z",
     "iopub.status.busy": "2023-06-29T05:55:26.107457Z",
     "iopub.status.idle": "2023-06-29T05:55:26.113124Z",
     "shell.execute_reply": "2023-06-29T05:55:26.113124Z",
     "shell.execute_reply.started": "2023-06-29T05:55:26.107457Z"
    }
   },
   "outputs": [],
   "source": [
    "# list all csv files\n",
    "csv_files = glob.glob('*.{}'.format('csv'))"
   ]
  },
  {
   "cell_type": "code",
   "execution_count": 3,
   "id": "de0837f2-71fe-4e94-ad70-c20dc7c9dc56",
   "metadata": {
    "execution": {
     "iopub.execute_input": "2023-06-29T05:55:28.750885Z",
     "iopub.status.busy": "2023-06-29T05:55:28.750885Z",
     "iopub.status.idle": "2023-06-29T05:55:28.761894Z",
     "shell.execute_reply": "2023-06-29T05:55:28.761894Z",
     "shell.execute_reply.started": "2023-06-29T05:55:28.750885Z"
    }
   },
   "outputs": [
    {
     "data": {
      "text/plain": [
       "['email.csv', 'emailphone.csv', 'phone.csv']"
      ]
     },
     "execution_count": 3,
     "metadata": {},
     "output_type": "execute_result"
    }
   ],
   "source": [
    "csv_files"
   ]
  },
  {
   "cell_type": "code",
   "execution_count": 4,
   "id": "4740191f-e1b0-4dfc-9f58-1b23b20d01f0",
   "metadata": {
    "execution": {
     "iopub.execute_input": "2023-06-29T05:55:40.549033Z",
     "iopub.status.busy": "2023-06-29T05:55:40.549033Z",
     "iopub.status.idle": "2023-06-29T05:56:05.775297Z",
     "shell.execute_reply": "2023-06-29T05:56:05.775297Z",
     "shell.execute_reply.started": "2023-06-29T05:55:40.549033Z"
    }
   },
   "outputs": [],
   "source": [
    "new = []\n",
    "# iterate through the csv file and concatenate it\n",
    "for f in csv_files:\n",
    "    new.append(pd.read_csv(f))"
   ]
  },
  {
   "cell_type": "code",
   "execution_count": 6,
   "id": "363511ba-7eb1-4b0a-992f-186d2bebf5dc",
   "metadata": {
    "execution": {
     "iopub.execute_input": "2023-06-29T05:56:17.342533Z",
     "iopub.status.busy": "2023-06-29T05:56:17.342533Z",
     "iopub.status.idle": "2023-06-29T05:56:18.292627Z",
     "shell.execute_reply": "2023-06-29T05:56:18.292627Z",
     "shell.execute_reply.started": "2023-06-29T05:56:17.342533Z"
    }
   },
   "outputs": [],
   "source": [
    "merged_file = pd.concat(new, ignore_index=True)"
   ]
  },
  {
   "cell_type": "code",
   "execution_count": 7,
   "id": "b4b83257-6fd6-4e26-a727-645f81085f3f",
   "metadata": {
    "execution": {
     "iopub.execute_input": "2023-06-29T05:56:21.690465Z",
     "iopub.status.busy": "2023-06-29T05:56:21.690465Z",
     "iopub.status.idle": "2023-06-29T05:56:21.707628Z",
     "shell.execute_reply": "2023-06-29T05:56:21.707628Z",
     "shell.execute_reply.started": "2023-06-29T05:56:21.690465Z"
    }
   },
   "outputs": [
    {
     "data": {
      "text/html": [
       "<div>\n",
       "<style scoped>\n",
       "    .dataframe tbody tr th:only-of-type {\n",
       "        vertical-align: middle;\n",
       "    }\n",
       "\n",
       "    .dataframe tbody tr th {\n",
       "        vertical-align: top;\n",
       "    }\n",
       "\n",
       "    .dataframe thead th {\n",
       "        text-align: right;\n",
       "    }\n",
       "</style>\n",
       "<table border=\"1\" class=\"dataframe\">\n",
       "  <thead>\n",
       "    <tr style=\"text-align: right;\">\n",
       "      <th></th>\n",
       "      <th>full_name</th>\n",
       "      <th>linkedin_url</th>\n",
       "      <th>phone_numbers</th>\n",
       "      <th>emails</th>\n",
       "      <th>location</th>\n",
       "    </tr>\n",
       "  </thead>\n",
       "  <tbody>\n",
       "    <tr>\n",
       "      <th>0</th>\n",
       "      <td>victoria ryder</td>\n",
       "      <td>linkedin.com/in/victoria-ryder-a504329</td>\n",
       "      <td>[]</td>\n",
       "      <td>'victoriatr123@gmail.com'</td>\n",
       "      <td>new york, new york, united states</td>\n",
       "    </tr>\n",
       "    <tr>\n",
       "      <th>1</th>\n",
       "      <td>christophe esposito</td>\n",
       "      <td>linkedin.com/in/christopheesposito</td>\n",
       "      <td>[]</td>\n",
       "      <td>'c.esposito916@gmail.com'</td>\n",
       "      <td>norwalk, connecticut, united states</td>\n",
       "    </tr>\n",
       "    <tr>\n",
       "      <th>2</th>\n",
       "      <td>wenzhong wu</td>\n",
       "      <td>linkedin.com/in/wenzhong-wu-85b8b126</td>\n",
       "      <td>[]</td>\n",
       "      <td>'wuwenz@hotmail.com'</td>\n",
       "      <td>san jose, california, united states</td>\n",
       "    </tr>\n",
       "    <tr>\n",
       "      <th>3</th>\n",
       "      <td>matthew erskine</td>\n",
       "      <td>linkedin.com/in/matthew-erskine-97159844</td>\n",
       "      <td>[]</td>\n",
       "      <td>'erskineranches@gmail.com'</td>\n",
       "      <td>kerman, california, united states</td>\n",
       "    </tr>\n",
       "    <tr>\n",
       "      <th>4</th>\n",
       "      <td>kishore chakravadhanula</td>\n",
       "      <td>linkedin.com/in/kchakrav</td>\n",
       "      <td>[]</td>\n",
       "      <td>'kchakrav@gmail.com',  'kishore.chakravadhanu...</td>\n",
       "      <td>san diego, california, united states</td>\n",
       "    </tr>\n",
       "    <tr>\n",
       "      <th>...</th>\n",
       "      <td>...</td>\n",
       "      <td>...</td>\n",
       "      <td>...</td>\n",
       "      <td>...</td>\n",
       "      <td>...</td>\n",
       "    </tr>\n",
       "    <tr>\n",
       "      <th>13946191</th>\n",
       "      <td>dave naab</td>\n",
       "      <td>linkedin.com/in/davenaab</td>\n",
       "      <td>['+15633328930']</td>\n",
       "      <td>NaN</td>\n",
       "      <td>bettendorf, iowa, united states</td>\n",
       "    </tr>\n",
       "    <tr>\n",
       "      <th>13946192</th>\n",
       "      <td>jeff heiney</td>\n",
       "      <td>linkedin.com/in/jeff-heiney-57313160</td>\n",
       "      <td>['+16363436112']</td>\n",
       "      <td>NaN</td>\n",
       "      <td>fenton, missouri, united states</td>\n",
       "    </tr>\n",
       "    <tr>\n",
       "      <th>13946193</th>\n",
       "      <td>cynthia lugo-anatello</td>\n",
       "      <td>linkedin.com/in/cynthia-lugo-anatello-5a2a3993</td>\n",
       "      <td>['+17148218380']</td>\n",
       "      <td>NaN</td>\n",
       "      <td>los alamitos, california, united states</td>\n",
       "    </tr>\n",
       "    <tr>\n",
       "      <th>13946194</th>\n",
       "      <td>pao-gen wang</td>\n",
       "      <td>linkedin.com/in/pao-gen-wang-b229a5101</td>\n",
       "      <td>['+15093583900']</td>\n",
       "      <td>NaN</td>\n",
       "      <td>new jersey, united states</td>\n",
       "    </tr>\n",
       "    <tr>\n",
       "      <th>13946195</th>\n",
       "      <td>chip rominger</td>\n",
       "      <td>linkedin.com/in/chip-rominger-8377b532</td>\n",
       "      <td>['+14238223600']</td>\n",
       "      <td>NaN</td>\n",
       "      <td>chattanooga, tennessee, united states</td>\n",
       "    </tr>\n",
       "  </tbody>\n",
       "</table>\n",
       "<p>13946196 rows × 5 columns</p>\n",
       "</div>"
      ],
      "text/plain": [
       "                        full_name   \n",
       "0                  victoria ryder  \\\n",
       "1             christophe esposito   \n",
       "2                     wenzhong wu   \n",
       "3                 matthew erskine   \n",
       "4         kishore chakravadhanula   \n",
       "...                           ...   \n",
       "13946191                dave naab   \n",
       "13946192              jeff heiney   \n",
       "13946193    cynthia lugo-anatello   \n",
       "13946194             pao-gen wang   \n",
       "13946195            chip rominger   \n",
       "\n",
       "                                            linkedin_url     phone_numbers   \n",
       "0                 linkedin.com/in/victoria-ryder-a504329                []  \\\n",
       "1                     linkedin.com/in/christopheesposito                []   \n",
       "2                   linkedin.com/in/wenzhong-wu-85b8b126                []   \n",
       "3               linkedin.com/in/matthew-erskine-97159844                []   \n",
       "4                               linkedin.com/in/kchakrav                []   \n",
       "...                                                  ...               ...   \n",
       "13946191                        linkedin.com/in/davenaab  ['+15633328930']   \n",
       "13946192            linkedin.com/in/jeff-heiney-57313160  ['+16363436112']   \n",
       "13946193  linkedin.com/in/cynthia-lugo-anatello-5a2a3993  ['+17148218380']   \n",
       "13946194          linkedin.com/in/pao-gen-wang-b229a5101  ['+15093583900']   \n",
       "13946195          linkedin.com/in/chip-rominger-8377b532  ['+14238223600']   \n",
       "\n",
       "                                                     emails   \n",
       "0                                 'victoriatr123@gmail.com'  \\\n",
       "1                                 'c.esposito916@gmail.com'   \n",
       "2                                      'wuwenz@hotmail.com'   \n",
       "3                                'erskineranches@gmail.com'   \n",
       "4          'kchakrav@gmail.com',  'kishore.chakravadhanu...   \n",
       "...                                                     ...   \n",
       "13946191                                                NaN   \n",
       "13946192                                                NaN   \n",
       "13946193                                                NaN   \n",
       "13946194                                                NaN   \n",
       "13946195                                                NaN   \n",
       "\n",
       "                                         location  \n",
       "0               new york, new york, united states  \n",
       "1             norwalk, connecticut, united states  \n",
       "2             san jose, california, united states  \n",
       "3               kerman, california, united states  \n",
       "4            san diego, california, united states  \n",
       "...                                           ...  \n",
       "13946191          bettendorf, iowa, united states  \n",
       "13946192          fenton, missouri, united states  \n",
       "13946193  los alamitos, california, united states  \n",
       "13946194                new jersey, united states  \n",
       "13946195    chattanooga, tennessee, united states  \n",
       "\n",
       "[13946196 rows x 5 columns]"
      ]
     },
     "execution_count": 7,
     "metadata": {},
     "output_type": "execute_result"
    }
   ],
   "source": [
    "merged_file"
   ]
  },
  {
   "cell_type": "code",
   "execution_count": 8,
   "id": "f491d57a-5821-4a9d-add4-ff2b5c1273d0",
   "metadata": {
    "execution": {
     "iopub.execute_input": "2023-06-29T05:56:42.174433Z",
     "iopub.status.busy": "2023-06-29T05:56:42.174433Z",
     "iopub.status.idle": "2023-06-29T05:57:15.831040Z",
     "shell.execute_reply": "2023-06-29T05:57:15.831040Z",
     "shell.execute_reply.started": "2023-06-29T05:56:42.174433Z"
    }
   },
   "outputs": [],
   "source": [
    "merged_file.to_csv(\"mergedfile.csv\", index=False)"
   ]
  },
  {
   "cell_type": "code",
   "execution_count": null,
   "id": "f34f0198-2233-4d75-a732-ba8e0def0226",
   "metadata": {},
   "outputs": [],
   "source": []
  }
 ],
 "metadata": {
  "kernelspec": {
   "display_name": "Python 3 (ipykernel)",
   "language": "python",
   "name": "python3"
  },
  "language_info": {
   "codemirror_mode": {
    "name": "ipython",
    "version": 3
   },
   "file_extension": ".py",
   "mimetype": "text/x-python",
   "name": "python",
   "nbconvert_exporter": "python",
   "pygments_lexer": "ipython3",
   "version": "3.11.3"
  }
 },
 "nbformat": 4,
 "nbformat_minor": 5
}
